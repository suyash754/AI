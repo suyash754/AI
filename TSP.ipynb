{
 "cells": [
  {
   "cell_type": "code",
   "execution_count": 1,
   "id": "145ed064",
   "metadata": {},
   "outputs": [
    {
     "name": "stdout",
     "output_type": "stream",
     "text": [
      "NUMBER OF LOCATIONS :3\n",
      "City: 1\n",
      "Enter H value for vertex 1\n",
      "2\n",
      "NUMBER OF CONNECTED LOCATIONS :2\n",
      "Adjacent city: 2\n",
      "Distance : 1\n",
      "Adjacent city: 3\n",
      "Distance : 4\n",
      "City: 2\n",
      "Enter H value for vertex 2\n",
      "5\n",
      "NUMBER OF CONNECTED LOCATIONS :0\n",
      "City: 0\n",
      "Enter H value for vertex 0\n",
      "5\n",
      "NUMBER OF CONNECTED LOCATIONS :0\n",
      "{'1': [('2', 1), ('3', 4)]}\n",
      "{'1': 2, '2': 5, '0': 5}\n"
     ]
    }
   ],
   "source": [
    "H={}\n",
    "adjac_lis={}\n",
    "lst=[]\n",
    "num = int(input (\"NUMBER OF LOCATIONS :\"))\n",
    "for x in range(num):\n",
    "  vertex= input(\"City: \")\n",
    "  print(\"Enter H value for vertex\",vertex)\n",
    "  h=int(input())\n",
    "  H[vertex]=h\n",
    "  num_c = int(input (\"NUMBER OF CONNECTED LOCATIONS :\"))\n",
    "  for y in range(num_c):\n",
    "    ver=input(\"Adjacent city: \")\n",
    "    dis=int(input(\"Distance : \"))\n",
    "    lst.append((ver,dis))\n",
    "  if(len(lst)>0):\n",
    "    adjac_lis[vertex]=lst\n",
    "  lst=[]\n",
    "\n",
    "print(adjac_lis)\n",
    "print(H)"
   ]
  },
  {
   "cell_type": "code",
   "execution_count": 2,
   "id": "a89df2b5",
   "metadata": {},
   "outputs": [],
   "source": [
    "def get_neighbors(v):\n",
    "       return adjac_lis[v]"
   ]
  },
  {
   "cell_type": "code",
   "execution_count": 3,
   "id": "17cd91a4",
   "metadata": {},
   "outputs": [],
   "source": [
    "def heuristic(n):\n",
    "        return H[n]"
   ]
  },
  {
   "cell_type": "code",
   "execution_count": 4,
   "id": "1761e5d5",
   "metadata": {},
   "outputs": [],
   "source": [
    "def a_star_algorithm(start, stop):\n",
    "        open_lst = set([start])\n",
    "        closed_lst = set([])\n",
    "        \n",
    "        G = {}\n",
    "        G[start] = 0\n",
    "       \n",
    "        par = {}\n",
    "        par[start] = start\n",
    "     \n",
    "        while len(open_lst) > 0:\n",
    "          \n",
    "            n = None\n",
    " \n",
    "            for v in open_lst:\n",
    "                if n == None or G[v] + heuristic(v) < G[n] + heuristic(n):                   \n",
    "                    n = v;\n",
    " \n",
    "            if n == None:\n",
    "                print('Path does not exist!')\n",
    "                return None\n",
    " \n",
    "            if n == stop:\n",
    "                path = []\n",
    " \n",
    "                while par[n] != n:\n",
    "                    path.append(n)\n",
    "                    n = par[n]\n",
    " \n",
    "                path.append(start)\n",
    " \n",
    "                path.reverse()               \n",
    "               \n",
    "                print('Path found: {}'.format(path))\n",
    "                return path\n",
    " \n",
    "            for (m, dis) in get_neighbors(n):\n",
    "                                   \n",
    "                if m not in open_lst and m not in closed_lst:\n",
    "                    open_lst.add(m)\n",
    "                    par[m] = n\n",
    "                    G[m] = G[n] + dis\n",
    "               \n",
    "                else:\n",
    "                    if G[m] > G[n] + dis:\n",
    "                        G[m] = G[n] + dis\n",
    "                        par[m] = n\n",
    "\n",
    "                        if m in closed_lst:\n",
    "                            closed_lst.remove(m)\n",
    "                            open_lst.add(m)\n",
    "\n",
    "            print(G)\n",
    "            open_lst.remove(n)\n",
    "            closed_lst.add(n)\n",
    "            \n",
    "        print('Path does not exist!')\n",
    "        return None"
   ]
  },
  {
   "cell_type": "code",
   "execution_count": 6,
   "id": "6205ddfb",
   "metadata": {},
   "outputs": [
    {
     "name": "stdout",
     "output_type": "stream",
     "text": [
      "Enter Start City1\n",
      "Enter Goal City2\n",
      "{'1': 0, '2': 1, '3': 4}\n"
     ]
    },
    {
     "ename": "KeyError",
     "evalue": "'3'",
     "output_type": "error",
     "traceback": [
      "\u001b[1;31m---------------------------------------------------------------------------\u001b[0m",
      "\u001b[1;31mKeyError\u001b[0m                                  Traceback (most recent call last)",
      "Cell \u001b[1;32mIn[6], line 3\u001b[0m\n\u001b[0;32m      1\u001b[0m start\u001b[38;5;241m=\u001b[39m\u001b[38;5;28minput\u001b[39m(\u001b[38;5;124m\"\u001b[39m\u001b[38;5;124mEnter Start City\u001b[39m\u001b[38;5;124m\"\u001b[39m)\n\u001b[0;32m      2\u001b[0m goal\u001b[38;5;241m=\u001b[39m \u001b[38;5;28minput\u001b[39m(\u001b[38;5;124m\"\u001b[39m\u001b[38;5;124mEnter Goal City\u001b[39m\u001b[38;5;124m\"\u001b[39m)\n\u001b[1;32m----> 3\u001b[0m a_star_algorithm(start, goal)\n",
      "Cell \u001b[1;32mIn[4], line 16\u001b[0m, in \u001b[0;36ma_star_algorithm\u001b[1;34m(start, stop)\u001b[0m\n\u001b[0;32m     13\u001b[0m n \u001b[38;5;241m=\u001b[39m \u001b[38;5;28;01mNone\u001b[39;00m\n\u001b[0;32m     15\u001b[0m \u001b[38;5;28;01mfor\u001b[39;00m v \u001b[38;5;129;01min\u001b[39;00m open_lst:\n\u001b[1;32m---> 16\u001b[0m     \u001b[38;5;28;01mif\u001b[39;00m n \u001b[38;5;241m==\u001b[39m \u001b[38;5;28;01mNone\u001b[39;00m \u001b[38;5;129;01mor\u001b[39;00m G[v] \u001b[38;5;241m+\u001b[39m heuristic(v) \u001b[38;5;241m<\u001b[39m G[n] \u001b[38;5;241m+\u001b[39m heuristic(n):                   \n\u001b[0;32m     17\u001b[0m         n \u001b[38;5;241m=\u001b[39m v;\n\u001b[0;32m     19\u001b[0m \u001b[38;5;28;01mif\u001b[39;00m n \u001b[38;5;241m==\u001b[39m \u001b[38;5;28;01mNone\u001b[39;00m:\n",
      "Cell \u001b[1;32mIn[3], line 2\u001b[0m, in \u001b[0;36mheuristic\u001b[1;34m(n)\u001b[0m\n\u001b[0;32m      1\u001b[0m \u001b[38;5;28;01mdef\u001b[39;00m \u001b[38;5;21mheuristic\u001b[39m(n):\n\u001b[1;32m----> 2\u001b[0m         \u001b[38;5;28;01mreturn\u001b[39;00m H[n]\n",
      "\u001b[1;31mKeyError\u001b[0m: '3'"
     ]
    }
   ],
   "source": [
    "start=input(\"Enter Start City\")\n",
    "goal= input(\"Enter Goal City\")\n",
    "a_star_algorithm(start, goal)"
   ]
  },
  {
   "cell_type": "code",
   "execution_count": null,
   "id": "145317f5",
   "metadata": {},
   "outputs": [],
   "source": []
  }
 ],
 "metadata": {
  "kernelspec": {
   "display_name": "Python 3 (ipykernel)",
   "language": "python",
   "name": "python3"
  },
  "language_info": {
   "codemirror_mode": {
    "name": "ipython",
    "version": 3
   },
   "file_extension": ".py",
   "mimetype": "text/x-python",
   "name": "python",
   "nbconvert_exporter": "python",
   "pygments_lexer": "ipython3",
   "version": "3.11.7"
  }
 },
 "nbformat": 4,
 "nbformat_minor": 5
}
