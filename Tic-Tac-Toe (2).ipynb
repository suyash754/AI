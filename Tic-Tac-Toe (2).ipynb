{
 "cells": [
  {
   "cell_type": "code",
   "execution_count": null,
   "id": "a40c2691-13aa-4629-b48a-e88438c21a14",
   "metadata": {},
   "outputs": [
    {
     "name": "stdout",
     "output_type": "stream",
     "text": [
      "Welcome to Tic Tac Toe!\n",
      "  |   |  \n",
      "--------\n",
      "  |   |  \n",
      "--------\n",
      "  |   |  \n",
      "--------\n"
     ]
    }
   ],
   "source": [
    "def print_board(board):\n",
    "    for row in board:\n",
    "        print(\" | \".join(row))\n",
    "        print(\"-\" * 8)\n",
    "\n",
    "def check_winner(board, player):\n",
    "    # Check rows\n",
    "    for row in board:\n",
    "        if all(cell == player for cell in row):\n",
    "            return True\n",
    "\n",
    "    # Check columns\n",
    "    for col in range(3):\n",
    "        if all(board[row][col] == player for row in range(3)):\n",
    "            return True\n",
    "\n",
    "    # Check diagonals\n",
    "    if all(board[i][i] == player for i in range(3)) or all(board[i][2-i] == player for i in range(3)):\n",
    "        return True\n",
    "\n",
    "    return False\n",
    "\n",
    "def is_board_full(board):\n",
    "    return all(cell != ' ' for row in board for cell in row)\n",
    "\n",
    "def main():\n",
    "    board = [[' ']*3 for _ in range(3)]\n",
    "    players = ['X', 'O']\n",
    "    current_player = 0\n",
    "\n",
    "    print(\"Welcome to Tic Tac Toe!\")\n",
    "    print_board(board)\n",
    "\n",
    "    while True:\n",
    "        row = int(input(\"Player {} enter row (0-2): \".format(players[current_player])))\n",
    "        col = int(input(\"Player {} enter column (0-2): \".format(players[current_player])))\n",
    "\n",
    "        if board[row][col] == ' ':\n",
    "            board[row][col] = players[current_player]\n",
    "            print_board(board)\n",
    "\n",
    "            if check_winner(board, players[current_player]):\n",
    "                print(\"Player {} wins!\".format(players[current_player]))\n",
    "                break\n",
    "            elif is_board_full(board):\n",
    "                print(\"It's a tie!\")\n",
    "                break\n",
    "            else:\n",
    "                current_player = (current_player + 1) % 2\n",
    "        else:\n",
    "            print(\"That position is already taken!\")\n",
    "main()\n"
   ]
  },
  {
   "cell_type": "code",
   "execution_count": null,
   "id": "4f83bc5c-919c-475f-a5bc-a34796b50f64",
   "metadata": {},
   "outputs": [],
   "source": []
  }
 ],
 "metadata": {
  "kernelspec": {
   "display_name": "Python 3 (ipykernel)",
   "language": "python",
   "name": "python3"
  },
  "language_info": {
   "codemirror_mode": {
    "name": "ipython",
    "version": 3
   },
   "file_extension": ".py",
   "mimetype": "text/x-python",
   "name": "python",
   "nbconvert_exporter": "python",
   "pygments_lexer": "ipython3",
   "version": "3.11.7"
  }
 },
 "nbformat": 4,
 "nbformat_minor": 5
}
