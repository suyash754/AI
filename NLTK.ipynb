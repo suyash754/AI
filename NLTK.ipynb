{
 "cells": [
  {
   "cell_type": "code",
   "execution_count": 2,
   "id": "bbbfdebf",
   "metadata": {},
   "outputs": [
    {
     "name": "stdout",
     "output_type": "stream",
     "text": [
      "Collecting nltk\n",
      "  Downloading nltk-3.8.1-py3-none-any.whl.metadata (2.8 kB)\n",
      "Requirement already satisfied: click in c:\\users\\suyas\\anaconda3\\lib\\site-packages (from nltk) (8.1.7)\n",
      "Requirement already satisfied: joblib in c:\\users\\suyas\\anaconda3\\lib\\site-packages (from nltk) (1.4.0)\n",
      "Collecting regex>=2021.8.3 (from nltk)\n",
      "  Downloading regex-2024.4.28-cp311-cp311-win_amd64.whl.metadata (41 kB)\n",
      "     ---------------------------------------- 0.0/41.9 kB ? eta -:--:--\n",
      "     ---------------------------------------- 0.0/41.9 kB ? eta -:--:--\n",
      "     --------- ------------------------------ 10.2/41.9 kB ? eta -:--:--\n",
      "     ------------------ ------------------- 20.5/41.9 kB 217.9 kB/s eta 0:00:01\n",
      "     ------------------ ------------------- 20.5/41.9 kB 217.9 kB/s eta 0:00:01\n",
      "     -------------------------------------  41.0/41.9 kB 245.8 kB/s eta 0:00:01\n",
      "     -------------------------------------- 41.9/41.9 kB 224.7 kB/s eta 0:00:00\n",
      "Requirement already satisfied: tqdm in c:\\users\\suyas\\anaconda3\\lib\\site-packages (from nltk) (4.65.0)\n",
      "Requirement already satisfied: colorama in c:\\users\\suyas\\anaconda3\\lib\\site-packages (from click->nltk) (0.4.6)\n",
      "Downloading nltk-3.8.1-py3-none-any.whl (1.5 MB)\n",
      "   ---------------------------------------- 0.0/1.5 MB ? eta -:--:--\n",
      "    --------------------------------------- 0.0/1.5 MB 660.6 kB/s eta 0:00:03\n",
      "   - -------------------------------------- 0.0/1.5 MB 487.6 kB/s eta 0:00:04\n",
      "   - -------------------------------------- 0.0/1.5 MB 487.6 kB/s eta 0:00:04\n",
      "   - -------------------------------------- 0.0/1.5 MB 487.6 kB/s eta 0:00:04\n",
      "   - -------------------------------------- 0.1/1.5 MB 272.3 kB/s eta 0:00:06\n",
      "   -- ------------------------------------- 0.1/1.5 MB 353.1 kB/s eta 0:00:05\n",
      "   --- ------------------------------------ 0.1/1.5 MB 400.9 kB/s eta 0:00:04\n",
      "   --- ------------------------------------ 0.1/1.5 MB 400.9 kB/s eta 0:00:04\n",
      "   --- ------------------------------------ 0.1/1.5 MB 400.9 kB/s eta 0:00:04\n",
      "   --- ------------------------------------ 0.1/1.5 MB 340.5 kB/s eta 0:00:05\n",
      "   ---- ----------------------------------- 0.2/1.5 MB 364.0 kB/s eta 0:00:04\n",
      "   ----- ---------------------------------- 0.2/1.5 MB 393.0 kB/s eta 0:00:04\n",
      "   ----- ---------------------------------- 0.2/1.5 MB 377.1 kB/s eta 0:00:04\n",
      "   ------ --------------------------------- 0.3/1.5 MB 436.5 kB/s eta 0:00:03\n",
      "   ------- -------------------------------- 0.3/1.5 MB 465.5 kB/s eta 0:00:03\n",
      "   -------- ------------------------------- 0.3/1.5 MB 475.1 kB/s eta 0:00:03\n",
      "   --------- ------------------------------ 0.4/1.5 MB 506.0 kB/s eta 0:00:03\n",
      "   ---------- ----------------------------- 0.4/1.5 MB 541.2 kB/s eta 0:00:03\n",
      "   ----------- ---------------------------- 0.5/1.5 MB 574.8 kB/s eta 0:00:02\n",
      "   ------------- -------------------------- 0.5/1.5 MB 616.7 kB/s eta 0:00:02\n",
      "   ------------- -------------------------- 0.5/1.5 MB 616.7 kB/s eta 0:00:02\n",
      "   -------------- ------------------------- 0.5/1.5 MB 596.8 kB/s eta 0:00:02\n",
      "   --------------- ------------------------ 0.6/1.5 MB 622.0 kB/s eta 0:00:02\n",
      "   ----------------- ---------------------- 0.6/1.5 MB 655.2 kB/s eta 0:00:02\n",
      "   ----------------- ---------------------- 0.6/1.5 MB 655.2 kB/s eta 0:00:02\n",
      "   ------------------- -------------------- 0.7/1.5 MB 704.2 kB/s eta 0:00:02\n",
      "   ------------------- -------------------- 0.7/1.5 MB 704.2 kB/s eta 0:00:02\n",
      "   -------------------- ------------------- 0.8/1.5 MB 682.7 kB/s eta 0:00:02\n",
      "   -------------------- ------------------- 0.8/1.5 MB 682.7 kB/s eta 0:00:02\n",
      "   --------------------- ------------------ 0.8/1.5 MB 663.9 kB/s eta 0:00:02\n",
      "   ----------------------- ---------------- 0.9/1.5 MB 688.1 kB/s eta 0:00:01\n",
      "   ------------------------ --------------- 0.9/1.5 MB 711.4 kB/s eta 0:00:01\n",
      "   ------------------------- -------------- 1.0/1.5 MB 724.8 kB/s eta 0:00:01\n",
      "   --------------------------- ------------ 1.0/1.5 MB 745.4 kB/s eta 0:00:01\n",
      "   --------------------------- ------------ 1.1/1.5 MB 742.9 kB/s eta 0:00:01\n",
      "   ----------------------------- ---------- 1.1/1.5 MB 754.1 kB/s eta 0:00:01\n",
      "   ------------------------------ --------- 1.2/1.5 MB 772.3 kB/s eta 0:00:01\n",
      "   ------------------------------- -------- 1.2/1.5 MB 775.9 kB/s eta 0:00:01\n",
      "   --------------------------------- ------ 1.2/1.5 MB 792.7 kB/s eta 0:00:01\n",
      "   ---------------------------------- ----- 1.3/1.5 MB 814.1 kB/s eta 0:00:01\n",
      "   ------------------------------------ --- 1.4/1.5 MB 816.2 kB/s eta 0:00:01\n",
      "   ------------------------------------- -- 1.4/1.5 MB 831.1 kB/s eta 0:00:01\n",
      "   ---------------------------------------  1.5/1.5 MB 844.0 kB/s eta 0:00:01\n",
      "   ---------------------------------------- 1.5/1.5 MB 842.5 kB/s eta 0:00:00\n",
      "Downloading regex-2024.4.28-cp311-cp311-win_amd64.whl (268 kB)\n",
      "   ---------------------------------------- 0.0/269.0 kB ? eta -:--:--\n",
      "   ------ --------------------------------- 41.0/269.0 kB 1.9 MB/s eta 0:00:01\n",
      "   ------------ --------------------------- 81.9/269.0 kB 1.5 MB/s eta 0:00:01\n",
      "   ------------------ --------------------- 122.9/269.0 kB 1.4 MB/s eta 0:00:01\n",
      "   ------------------------- -------------- 174.1/269.0 kB 1.3 MB/s eta 0:00:01\n",
      "   ------------------------------------ --- 245.8/269.0 kB 1.3 MB/s eta 0:00:01\n",
      "   ---------------------------------------- 269.0/269.0 kB 1.3 MB/s eta 0:00:00\n",
      "Installing collected packages: regex, nltk\n",
      "Successfully installed nltk-3.8.1 regex-2024.4.28\n",
      "Note: you may need to restart the kernel to use updated packages.\n"
     ]
    }
   ],
   "source": [
    "pip install nltk"
   ]
  },
  {
   "cell_type": "code",
   "execution_count": 3,
   "id": "8f16ff05",
   "metadata": {},
   "outputs": [
    {
     "name": "stderr",
     "output_type": "stream",
     "text": [
      "[nltk_data] Downloading package punkt to\n",
      "[nltk_data]     C:\\Users\\suyas\\AppData\\Roaming\\nltk_data...\n",
      "[nltk_data]   Package punkt is already up-to-date!\n"
     ]
    }
   ],
   "source": [
    "import nltk\n",
    "nltk.download('punkt')\n",
    "from nltk.tokenize import sent_tokenize,word_tokenize"
   ]
  },
  {
   "cell_type": "code",
   "execution_count": 4,
   "id": "77975d48",
   "metadata": {},
   "outputs": [],
   "source": [
    "txt='''Natural language processing (NLP) is a field of computer science, artificial intelligence and computational linguistics concerned with the interactions between computers and human (natural) languages,and,in particular,concerned with programming computers to fruitfully process large natural language corpora.Challenges in natural language processing frequently involve natural language understanding,natural language generation frequently from formal,machine-readable logical forms),connecting language and machine perception,managing human-computer dialog systems, or some combination thereof.'''"
   ]
  },
  {
   "cell_type": "code",
   "execution_count": 5,
   "id": "4ec3931a",
   "metadata": {},
   "outputs": [
    {
     "data": {
      "text/plain": [
       "['Natural language processing (NLP) is a field of computer science, artificial intelligence and computational linguistics concerned with the interactions between computers and human (natural) languages,and,in particular,concerned with programming computers to fruitfully process large natural language corpora.Challenges in natural language processing frequently involve natural language understanding,natural language generation frequently from formal,machine-readable logical forms),connecting language and machine perception,managing human-computer dialog systems, or some combination thereof.']"
      ]
     },
     "execution_count": 5,
     "metadata": {},
     "output_type": "execute_result"
    }
   ],
   "source": [
    "sent_tokenize(txt)"
   ]
  },
  {
   "cell_type": "code",
   "execution_count": 6,
   "id": "f6800a21",
   "metadata": {},
   "outputs": [
    {
     "data": {
      "text/plain": [
       "['artificial',\n",
       " 'intelligence',\n",
       " 'and',\n",
       " 'computational',\n",
       " 'linguistics',\n",
       " 'concerned',\n",
       " 'with']"
      ]
     },
     "execution_count": 6,
     "metadata": {},
     "output_type": "execute_result"
    }
   ],
   "source": [
    "txt=\"artificial intelligence and computational linguistics concerned with\"\n",
    "word_tokenize(txt)"
   ]
  },
  {
   "cell_type": "code",
   "execution_count": 7,
   "id": "1d08373b",
   "metadata": {},
   "outputs": [
    {
     "data": {
      "text/plain": [
       "['Natural',\n",
       " 'language',\n",
       " 'processing',\n",
       " '(',\n",
       " 'NLP',\n",
       " ')',\n",
       " 'is',\n",
       " 'a',\n",
       " 'field',\n",
       " 'of',\n",
       " 'computer',\n",
       " 'science',\n",
       " ',',\n",
       " 'artificial',\n",
       " 'intelligence',\n",
       " 'and',\n",
       " 'computational',\n",
       " 'linguistics',\n",
       " 'concerned',\n",
       " 'with',\n",
       " 'the',\n",
       " 'interactions',\n",
       " 'between',\n",
       " 'computers',\n",
       " 'and',\n",
       " 'human']"
      ]
     },
     "execution_count": 7,
     "metadata": {},
     "output_type": "execute_result"
    }
   ],
   "source": [
    "from nltk.tokenize import TreebankWordTokenizer\n",
    "txt=\"Natural language processing (NLP) is a field of computer science, artificial intelligence and computational linguistics concerned with the interactions between computers and human\"\n",
    "tokenizer = TreebankWordTokenizer()\n",
    "tokenizer.tokenize(txt)"
   ]
  },
  {
   "cell_type": "code",
   "execution_count": 8,
   "id": "1544e8b7",
   "metadata": {},
   "outputs": [
    {
     "data": {
      "text/plain": [
       "['Natural',\n",
       " 'language',\n",
       " 'processing',\n",
       " '(',\n",
       " 'NLP',\n",
       " ')',\n",
       " 'is',\n",
       " 'a',\n",
       " 'field',\n",
       " 'of',\n",
       " 'computer',\n",
       " 'science',\n",
       " ',',\n",
       " 'artificial',\n",
       " 'intelligence',\n",
       " 'and',\n",
       " 'computational',\n",
       " 'linguistics',\n",
       " 'concerned',\n",
       " 'with',\n",
       " 'the',\n",
       " 'interactions',\n",
       " 'between',\n",
       " 'computers',\n",
       " 'and',\n",
       " 'human']"
      ]
     },
     "execution_count": 8,
     "metadata": {},
     "output_type": "execute_result"
    }
   ],
   "source": [
    "from nltk.tokenize import WordPunctTokenizer\n",
    "txt=\"Natural language processing (NLP) is a field of computer science, artificial intelligence and computational linguistics concerned with the interactions between computers and human\"\n",
    "tokenizer=WordPunctTokenizer()\n",
    "tokenizer.tokenize(txt)"
   ]
  },
  {
   "cell_type": "code",
   "execution_count": 9,
   "id": "05349e35",
   "metadata": {},
   "outputs": [
    {
     "data": {
      "text/plain": [
       "['Natural',\n",
       " 'language',\n",
       " 'processing',\n",
       " 'NLP',\n",
       " 'is',\n",
       " 'a',\n",
       " 'field',\n",
       " 'of',\n",
       " 'computer',\n",
       " 'science']"
      ]
     },
     "execution_count": 9,
     "metadata": {},
     "output_type": "execute_result"
    }
   ],
   "source": [
    "from nltk.tokenize import RegexpTokenizer\n",
    "tokenizer = RegexpTokenizer(\"[\\w']+\")\n",
    "txt=\"Natural language processing (NLP) is a field of computer science,\"\n",
    "tokenizer.tokenize(txt)"
   ]
  },
  {
   "cell_type": "code",
   "execution_count": 10,
   "id": "159c28a5",
   "metadata": {},
   "outputs": [
    {
     "name": "stderr",
     "output_type": "stream",
     "text": [
      "[nltk_data] Downloading package stopwords to\n",
      "[nltk_data]     C:\\Users\\suyas\\AppData\\Roaming\\nltk_data...\n",
      "[nltk_data]   Package stopwords is already up-to-date!\n"
     ]
    },
    {
     "data": {
      "text/plain": [
       "True"
      ]
     },
     "execution_count": 10,
     "metadata": {},
     "output_type": "execute_result"
    }
   ],
   "source": [
    "import nltk\n",
    "nltk.download('stopwords')"
   ]
  },
  {
   "cell_type": "code",
   "execution_count": 11,
   "id": "b81bb72b",
   "metadata": {},
   "outputs": [
    {
     "name": "stdout",
     "output_type": "stream",
     "text": [
      "['i', 'me', 'my', 'myself', 'we', 'our', 'ours', 'ourselves', 'you', \"you're\", \"you've\", \"you'll\", \"you'd\", 'your', 'yours', 'yourself', 'yourselves', 'he', 'him', 'his', 'himself', 'she', \"she's\", 'her', 'hers', 'herself', 'it', \"it's\", 'its', 'itself', 'they', 'them', 'their', 'theirs', 'themselves', 'what', 'which', 'who', 'whom', 'this', 'that', \"that'll\", 'these', 'those', 'am', 'is', 'are', 'was', 'were', 'be', 'been', 'being', 'have', 'has', 'had', 'having', 'do', 'does', 'did', 'doing', 'a', 'an', 'the', 'and', 'but', 'if', 'or', 'because', 'as', 'until', 'while', 'of', 'at', 'by', 'for', 'with', 'about', 'against', 'between', 'into', 'through', 'during', 'before', 'after', 'above', 'below', 'to', 'from', 'up', 'down', 'in', 'out', 'on', 'off', 'over', 'under', 'again', 'further', 'then', 'once', 'here', 'there', 'when', 'where', 'why', 'how', 'all', 'any', 'both', 'each', 'few', 'more', 'most', 'other', 'some', 'such', 'no', 'nor', 'not', 'only', 'own', 'same', 'so', 'than', 'too', 'very', 's', 't', 'can', 'will', 'just', 'don', \"don't\", 'should', \"should've\", 'now', 'd', 'll', 'm', 'o', 're', 've', 'y', 'ain', 'aren', \"aren't\", 'couldn', \"couldn't\", 'didn', \"didn't\", 'doesn', \"doesn't\", 'hadn', \"hadn't\", 'hasn', \"hasn't\", 'haven', \"haven't\", 'isn', \"isn't\", 'ma', 'mightn', \"mightn't\", 'mustn', \"mustn't\", 'needn', \"needn't\", 'shan', \"shan't\", 'shouldn', \"shouldn't\", 'wasn', \"wasn't\", 'weren', \"weren't\", 'won', \"won't\", 'wouldn', \"wouldn't\"]\n"
     ]
    }
   ],
   "source": [
    "import nltk\n",
    "from nltk.corpus import stopwords\n",
    "print(stopwords.words('english'))"
   ]
  },
  {
   "cell_type": "code",
   "execution_count": 12,
   "id": "2c097324",
   "metadata": {},
   "outputs": [],
   "source": [
    "stopwords = nltk.corpus.stopwords.words('english')\n",
    "stopwords.append('this')"
   ]
  },
  {
   "cell_type": "code",
   "execution_count": 13,
   "id": "32ad324f",
   "metadata": {},
   "outputs": [],
   "source": [
    "stopwords = nltk.corpus.stopwords.words('english')\n",
    "newStopWords = ['there','therefore']\n",
    "stopwords.extend(newStopWords)"
   ]
  },
  {
   "cell_type": "code",
   "execution_count": 14,
   "id": "3dd563c7",
   "metadata": {},
   "outputs": [
    {
     "name": "stdout",
     "output_type": "stream",
     "text": [
      "['i', 'me', 'my', 'myself', 'we', 'our', 'ours', 'ourselves', 'you', \"you're\", \"you've\", \"you'll\", \"you'd\", 'your', 'yours', 'yourself', 'yourselves', 'he', 'him', 'his', 'himself', 'she', \"she's\", 'her', 'hers', 'herself', 'it', \"it's\", 'its', 'itself', 'they', 'them', 'their', 'theirs', 'themselves', 'what', 'which', 'who', 'whom', 'this', 'that', \"that'll\", 'these', 'those', 'am', 'is', 'are', 'was', 'were', 'be', 'been', 'being', 'have', 'has', 'had', 'having', 'do', 'does', 'did', 'doing', 'a', 'an', 'the', 'and', 'but', 'if', 'or', 'because', 'as', 'until', 'while', 'of', 'at', 'by', 'for', 'with', 'about', 'against', 'between', 'into', 'through', 'during', 'before', 'after', 'above', 'below', 'to', 'from', 'up', 'down', 'in', 'out', 'on', 'off', 'over', 'under', 'again', 'further', 'then', 'once', 'here', 'there', 'when', 'where', 'why', 'how', 'all', 'any', 'both', 'each', 'few', 'more', 'most', 'other', 'some', 'such', 'no', 'nor', 'not', 'only', 'own', 'same', 'so', 'than', 'too', 'very', 's', 't', 'can', 'will', 'just', 'don', \"don't\", 'should', \"should've\", 'now', 'd', 'll', 'm', 'o', 're', 've', 'y', 'ain', 'aren', \"aren't\", 'couldn', \"couldn't\", 'didn', \"didn't\", 'doesn', \"doesn't\", 'hadn', \"hadn't\", 'hasn', \"hasn't\", 'haven', \"haven't\", 'isn', \"isn't\", 'ma', 'mightn', \"mightn't\", 'mustn', \"mustn't\", 'needn', \"needn't\", 'shan', \"shan't\", 'shouldn', \"shouldn't\", 'wasn', \"wasn't\", 'weren', \"weren't\", 'won', \"won't\", 'wouldn', \"wouldn't\", 'there', 'therefore']\n"
     ]
    }
   ],
   "source": [
    "print(stopwords)"
   ]
  },
  {
   "cell_type": "code",
   "execution_count": 15,
   "id": "b7603212",
   "metadata": {},
   "outputs": [],
   "source": [
    "import nltk\n",
    "from nltk.tokenize import word_tokenize\n",
    "from nltk.corpus import stopwords"
   ]
  },
  {
   "cell_type": "code",
   "execution_count": 16,
   "id": "3bf82dd9",
   "metadata": {},
   "outputs": [
    {
     "name": "stderr",
     "output_type": "stream",
     "text": [
      "[nltk_data] Downloading package stopwords to\n",
      "[nltk_data]     C:\\Users\\suyas\\AppData\\Roaming\\nltk_data...\n",
      "[nltk_data]   Package stopwords is already up-to-date!\n"
     ]
    },
    {
     "data": {
      "text/plain": [
       "True"
      ]
     },
     "execution_count": 16,
     "metadata": {},
     "output_type": "execute_result"
    }
   ],
   "source": [
    "nltk.download('stopwords')"
   ]
  },
  {
   "cell_type": "code",
   "execution_count": 17,
   "id": "7eb5baf3",
   "metadata": {},
   "outputs": [],
   "source": [
    "sentence=\"Natural language processing (NLP) is a field of computer science, artificial intelligence and computational linguistics concerned with the interactions between computers and human (natural) languages,and,in particular,concerned with programming computers to fruitfully process large natural language corpora.Challenges in natural language processing frequently involve natural language understanding,natural language generation frequently from formal,machine-readable logical forms),connecting language and machine perception,managing human-computer dialog systems, or some combination thereof.\""
   ]
  },
  {
   "cell_type": "code",
   "execution_count": 18,
   "id": "49af4d69",
   "metadata": {},
   "outputs": [],
   "source": [
    "tokens=word_tokenize(sentence)"
   ]
  },
  {
   "cell_type": "code",
   "execution_count": 19,
   "id": "f81c2fc2",
   "metadata": {},
   "outputs": [],
   "source": [
    "stop_words = set(stopwords.words('english'))"
   ]
  },
  {
   "cell_type": "code",
   "execution_count": 20,
   "id": "7506963c",
   "metadata": {},
   "outputs": [],
   "source": [
    "filtered_words = [word for word in tokens if word.lower() not in stop_words]"
   ]
  },
  {
   "cell_type": "code",
   "execution_count": 21,
   "id": "933628f7",
   "metadata": {},
   "outputs": [
    {
     "name": "stdout",
     "output_type": "stream",
     "text": [
      "Original Sentence:\n",
      "Natural language processing (NLP) is a field of computer science, artificial intelligence and computational linguistics concerned with the interactions between computers and human (natural) languages,and,in particular,concerned with programming computers to fruitfully process large natural language corpora.Challenges in natural language processing frequently involve natural language understanding,natural language generation frequently from formal,machine-readable logical forms),connecting language and machine perception,managing human-computer dialog systems, or some combination thereof.\n",
      "\n",
      "Words excluding stop words:\n",
      "['Natural', 'language', 'processing', '(', 'NLP', ')', 'field', 'computer', 'science', ',', 'artificial', 'intelligence', 'computational', 'linguistics', 'concerned', 'interactions', 'computers', 'human', '(', 'natural', ')', 'languages', ',', ',', 'particular', ',', 'concerned', 'programming', 'computers', 'fruitfully', 'process', 'large', 'natural', 'language', 'corpora.Challenges', 'natural', 'language', 'processing', 'frequently', 'involve', 'natural', 'language', 'understanding', ',', 'natural', 'language', 'generation', 'frequently', 'formal', ',', 'machine-readable', 'logical', 'forms', ')', ',', 'connecting', 'language', 'machine', 'perception', ',', 'managing', 'human-computer', 'dialog', 'systems', ',', 'combination', 'thereof', '.']\n"
     ]
    }
   ],
   "source": [
    "print(\"Original Sentence:\")\n",
    "print(sentence)\n",
    "print(\"\\nWords excluding stop words:\")\n",
    "print(filtered_words)"
   ]
  },
  {
   "cell_type": "code",
   "execution_count": 22,
   "id": "7e340c51",
   "metadata": {},
   "outputs": [],
   "source": [
    "from  sklearn.feature_extraction.text import TfidfVectorizer"
   ]
  },
  {
   "cell_type": "code",
   "execution_count": 23,
   "id": "3301516c",
   "metadata": {},
   "outputs": [],
   "source": [
    "d0='Natural language processing (NLP) is a field of computer science, artificial intelligence and computational linguistics concerned with the interactions between computers and human (natural) languages'\n",
    "d1=',and,in particular,concerned with programming computers to fruitfully process large natural language corpora.Challenges in'\n",
    "d2='forms),connecting language and machine perception,managing human-computer dialog systems, or some combination thereof.'"
   ]
  },
  {
   "cell_type": "code",
   "execution_count": 24,
   "id": "f2399a37",
   "metadata": {},
   "outputs": [],
   "source": [
    "import pandas as pd\n",
    "string = [d0,d1,d2]\n",
    "tfidf = TfidfVectorizer(ngram_range = (1,1))\n",
    "result = tfidf.fit_transform(string)\n",
    "feature_names=tfidf.get_feature_names_out()\n",
    "dense=result.todense()\n",
    "dens_lst=dense.tolist()\n",
    "df=pd.DataFrame(dens_lst,columns=feature_names)"
   ]
  },
  {
   "cell_type": "code",
   "execution_count": 25,
   "id": "4d609891",
   "metadata": {},
   "outputs": [
    {
     "name": "stdout",
     "output_type": "stream",
     "text": [
      "        and  artificial  between  challenges  combination  computational  \\\n",
      "0  0.258075     0.21848  0.21848    0.000000     0.000000        0.21848   \n",
      "1  0.152439     0.00000  0.00000    0.258102     0.000000        0.00000   \n",
      "2  0.164732     0.00000  0.00000    0.000000     0.278916        0.00000   \n",
      "\n",
      "   computer  computers  concerned  connecting  ...   process  processing  \\\n",
      "0  0.166159   0.166159   0.166159    0.000000  ...  0.000000     0.21848   \n",
      "1  0.000000   0.196293   0.196293    0.000000  ...  0.258102     0.00000   \n",
      "2  0.212123   0.000000   0.000000    0.278916  ...  0.000000     0.00000   \n",
      "\n",
      "   programming  science      some   systems      the   thereof        to  \\\n",
      "0     0.000000  0.21848  0.000000  0.000000  0.21848  0.000000  0.000000   \n",
      "1     0.258102  0.00000  0.000000  0.000000  0.00000  0.000000  0.258102   \n",
      "2     0.000000  0.00000  0.278916  0.278916  0.00000  0.278916  0.000000   \n",
      "\n",
      "       with  \n",
      "0  0.166159  \n",
      "1  0.196293  \n",
      "2  0.000000  \n",
      "\n",
      "[3 rows x 42 columns]\n"
     ]
    }
   ],
   "source": [
    "print(df)"
   ]
  },
  {
   "cell_type": "code",
   "execution_count": 26,
   "id": "33946e04",
   "metadata": {},
   "outputs": [],
   "source": [
    "df2 = pd.DataFrame(result.toarray().transpose(),\n",
    " index=tfidf.get_feature_names_out())"
   ]
  },
  {
   "cell_type": "code",
   "execution_count": 27,
   "id": "203699b9",
   "metadata": {},
   "outputs": [
    {
     "name": "stdout",
     "output_type": "stream",
     "text": [
      "                      0         1         2\n",
      "and            0.258075  0.152439  0.164732\n",
      "artificial     0.218480  0.000000  0.000000\n",
      "between        0.218480  0.000000  0.000000\n",
      "challenges     0.000000  0.258102  0.000000\n",
      "combination    0.000000  0.000000  0.278916\n",
      "computational  0.218480  0.000000  0.000000\n",
      "computer       0.166159  0.000000  0.212123\n",
      "computers      0.166159  0.196293  0.000000\n",
      "concerned      0.166159  0.196293  0.000000\n",
      "connecting     0.000000  0.000000  0.278916\n",
      "corpora        0.000000  0.258102  0.000000\n",
      "dialog         0.000000  0.000000  0.278916\n",
      "field          0.218480  0.000000  0.000000\n",
      "forms          0.000000  0.000000  0.278916\n",
      "fruitfully     0.000000  0.258102  0.000000\n",
      "human          0.166159  0.000000  0.212123\n",
      "in             0.000000  0.516204  0.000000\n",
      "intelligence   0.218480  0.000000  0.000000\n",
      "interactions   0.218480  0.000000  0.000000\n",
      "is             0.218480  0.000000  0.000000\n",
      "language       0.129038  0.152439  0.164732\n",
      "languages      0.218480  0.000000  0.000000\n",
      "large          0.000000  0.258102  0.000000\n",
      "linguistics    0.218480  0.000000  0.000000\n",
      "machine        0.000000  0.000000  0.278916\n",
      "managing       0.000000  0.000000  0.278916\n",
      "natural        0.332319  0.196293  0.000000\n",
      "nlp            0.218480  0.000000  0.000000\n",
      "of             0.218480  0.000000  0.000000\n",
      "or             0.000000  0.000000  0.278916\n",
      "particular     0.000000  0.258102  0.000000\n",
      "perception     0.000000  0.000000  0.278916\n",
      "process        0.000000  0.258102  0.000000\n",
      "processing     0.218480  0.000000  0.000000\n",
      "programming    0.000000  0.258102  0.000000\n",
      "science        0.218480  0.000000  0.000000\n",
      "some           0.000000  0.000000  0.278916\n",
      "systems        0.000000  0.000000  0.278916\n",
      "the            0.218480  0.000000  0.000000\n",
      "thereof        0.000000  0.000000  0.278916\n",
      "to             0.000000  0.258102  0.000000\n",
      "with           0.166159  0.196293  0.000000\n"
     ]
    }
   ],
   "source": [
    "print(df2)"
   ]
  },
  {
   "cell_type": "code",
   "execution_count": 28,
   "id": "e6249ffd",
   "metadata": {},
   "outputs": [],
   "source": [
    "txt = '''computers to fruitfully process large natural language corpora.Challenges in natural language processing frequently involve natural language understanding,natural language generation frequently from formal,machine-readable logical forms),connecting language and machine perception,managing human-computer dialog systems, or some combination thereof.'''"
   ]
  },
  {
   "cell_type": "code",
   "execution_count": 29,
   "id": "2d6749d6",
   "metadata": {},
   "outputs": [
    {
     "name": "stderr",
     "output_type": "stream",
     "text": [
      "[nltk_data] Downloading package stopwords to\n",
      "[nltk_data]     C:\\Users\\suyas\\AppData\\Roaming\\nltk_data...\n",
      "[nltk_data]   Package stopwords is already up-to-date!\n",
      "[nltk_data] Downloading package averaged_perceptron_tagger to\n",
      "[nltk_data]     C:\\Users\\suyas\\AppData\\Roaming\\nltk_data...\n",
      "[nltk_data]   Package averaged_perceptron_tagger is already up-to-\n",
      "[nltk_data]       date!\n"
     ]
    }
   ],
   "source": [
    "import nltk\n",
    "nltk.download('stopwords')\n",
    "nltk.download('averaged_perceptron_tagger')\n",
    "from nltk.corpus import stopwords\n",
    "stopwords = nltk.corpus.stopwords.words('english')"
   ]
  },
  {
   "cell_type": "code",
   "execution_count": 30,
   "id": "0d3ddbf9",
   "metadata": {},
   "outputs": [
    {
     "name": "stdout",
     "output_type": "stream",
     "text": [
      "['computers', 'to', 'fruitfully', 'process', 'large', 'natural', 'language', 'corpora.Challenges', 'in', 'natural', 'language', 'processing', 'frequently', 'involve', 'natural', 'language', 'understanding,natural', 'language', 'generation', 'frequently', 'from', 'formal,machine-readable', 'logical', 'forms),connecting', 'language', 'and', 'machine', 'perception,managing', 'human-computer', 'dialog', 'systems,', 'or', 'some', 'combination', 'thereof.']\n"
     ]
    }
   ],
   "source": [
    "from nltk.tokenize import WhitespaceTokenizer\n",
    "word_lst=WhitespaceTokenizer().tokenize(txt)\n",
    "print(word_lst)"
   ]
  },
  {
   "cell_type": "code",
   "execution_count": 31,
   "id": "98c3c348",
   "metadata": {},
   "outputs": [],
   "source": [
    "word_list=[]\n",
    "for word in word_lst:\n",
    " if word not in stopwords:\n",
    "  word_list.append(word)"
   ]
  },
  {
   "cell_type": "code",
   "execution_count": 32,
   "id": "fd3cb332",
   "metadata": {},
   "outputs": [],
   "source": [
    "pos_dict={}\n",
    "pos_dict=nltk.pos_tag(word_list)"
   ]
  },
  {
   "cell_type": "code",
   "execution_count": 33,
   "id": "e2f94b2a",
   "metadata": {},
   "outputs": [
    {
     "name": "stdout",
     "output_type": "stream",
     "text": [
      "[('computers', 'NNS'), ('fruitfully', 'RB'), ('process', 'VBP'), ('large', 'JJ'), ('natural', 'JJ'), ('language', 'NN'), ('corpora.Challenges', 'VBZ'), ('natural', 'JJ'), ('language', 'NN'), ('processing', 'NN'), ('frequently', 'RB'), ('involve', 'VBP'), ('natural', 'JJ'), ('language', 'NN'), ('understanding,natural', 'JJ'), ('language', 'NN'), ('generation', 'NN'), ('frequently', 'RB'), ('formal,machine-readable', 'JJ'), ('logical', 'JJ'), ('forms),connecting', 'NN'), ('language', 'NN'), ('machine', 'NN'), ('perception,managing', 'VBG'), ('human-computer', 'JJ'), ('dialog', 'NN'), ('systems,', 'NN'), ('combination', 'NN'), ('thereof.', 'NN')]\n"
     ]
    }
   ],
   "source": [
    "print(pos_dict)"
   ]
  },
  {
   "cell_type": "code",
   "execution_count": 34,
   "id": "c7ee7404",
   "metadata": {},
   "outputs": [
    {
     "name": "stdout",
     "output_type": "stream",
     "text": [
      "language NN\n",
      "corpora.Challenges VBZ\n",
      "language NN\n",
      "processing NN\n",
      "language NN\n",
      "language NN\n",
      "generation NN\n",
      "forms),connecting NN\n",
      "language NN\n",
      "machine NN\n",
      "dialog NN\n",
      "systems, NN\n",
      "combination NN\n",
      "thereof. NN\n"
     ]
    }
   ],
   "source": [
    "for (wrd,pos) in pos_dict:\n",
    " if(pos in ['NN','VBD','NNP','VBZ','VBN']):\n",
    "  print(wrd,pos)"
   ]
  }
 ],
 "metadata": {
  "kernelspec": {
   "display_name": "Python 3 (ipykernel)",
   "language": "python",
   "name": "python3"
  },
  "language_info": {
   "codemirror_mode": {
    "name": "ipython",
    "version": 3
   },
   "file_extension": ".py",
   "mimetype": "text/x-python",
   "name": "python",
   "nbconvert_exporter": "python",
   "pygments_lexer": "ipython3",
   "version": "3.11.7"
  }
 },
 "nbformat": 4,
 "nbformat_minor": 5
}
